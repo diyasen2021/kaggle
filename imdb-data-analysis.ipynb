{
 "cells": [
  {
   "cell_type": "code",
   "execution_count": 1,
   "id": "33157093",
   "metadata": {
    "_cell_guid": "b1076dfc-b9ad-4769-8c92-a6c4dae69d19",
    "_uuid": "8f2839f25d086af736a60e9eeb907d3b93b6e0e5",
    "execution": {
     "iopub.execute_input": "2024-06-09T23:38:32.738785Z",
     "iopub.status.busy": "2024-06-09T23:38:32.738298Z",
     "iopub.status.idle": "2024-06-09T23:38:33.754333Z",
     "shell.execute_reply": "2024-06-09T23:38:33.753127Z"
    },
    "papermill": {
     "duration": 1.032588,
     "end_time": "2024-06-09T23:38:33.757279",
     "exception": false,
     "start_time": "2024-06-09T23:38:32.724691",
     "status": "completed"
    },
    "tags": []
   },
   "outputs": [],
   "source": [
    "# This Python 3 environment comes with many helpful analytics libraries installed\n",
    "# It is defined by the kaggle/python Docker image: https://github.com/kaggle/docker-python\n",
    "# For example, here's several helpful packages to load\n",
    "\n",
    "import numpy as np # linear algebra\n",
    "import pandas as pd # data processing, CSV file I/O (e.g. pd.read_csv)\n",
    "\n",
    "\n",
    "# Input data files are available in the read-only \"../input/\" directory\n",
    "# For example, running this (by clicking run or pressing Shift+Enter) will list all files under the input directory\n",
    "\n",
    "import os\n",
    "for dirname, _, filenames in os.walk('/kaggle/input'):\n",
    "    for filename in filenames:\n",
    "        myfile = os.path.join(dirname, filename)\n",
    "        \n",
    "\n"
   ]
  },
  {
   "cell_type": "code",
   "execution_count": 2,
   "id": "f361967a",
   "metadata": {
    "execution": {
     "iopub.execute_input": "2024-06-09T23:38:33.783147Z",
     "iopub.status.busy": "2024-06-09T23:38:33.781963Z",
     "iopub.status.idle": "2024-06-09T23:38:33.855222Z",
     "shell.execute_reply": "2024-06-09T23:38:33.854008Z"
    },
    "papermill": {
     "duration": 0.08899,
     "end_time": "2024-06-09T23:38:33.857934",
     "exception": false,
     "start_time": "2024-06-09T23:38:33.768944",
     "status": "completed"
    },
    "tags": []
   },
   "outputs": [
    {
     "data": {
      "text/html": [
       "<div>\n",
       "<style scoped>\n",
       "    .dataframe tbody tr th:only-of-type {\n",
       "        vertical-align: middle;\n",
       "    }\n",
       "\n",
       "    .dataframe tbody tr th {\n",
       "        vertical-align: top;\n",
       "    }\n",
       "\n",
       "    .dataframe thead th {\n",
       "        text-align: right;\n",
       "    }\n",
       "</style>\n",
       "<table border=\"1\" class=\"dataframe\">\n",
       "  <thead>\n",
       "    <tr style=\"text-align: right;\">\n",
       "      <th></th>\n",
       "      <th>Poster_Link</th>\n",
       "      <th>Series_Title</th>\n",
       "      <th>Released_Year</th>\n",
       "      <th>Certificate</th>\n",
       "      <th>Runtime</th>\n",
       "      <th>Genre</th>\n",
       "      <th>IMDB_Rating</th>\n",
       "      <th>Overview</th>\n",
       "      <th>Meta_score</th>\n",
       "      <th>Director</th>\n",
       "      <th>Star1</th>\n",
       "      <th>Star2</th>\n",
       "      <th>Star3</th>\n",
       "      <th>Star4</th>\n",
       "      <th>No_of_Votes</th>\n",
       "      <th>Gross</th>\n",
       "    </tr>\n",
       "  </thead>\n",
       "  <tbody>\n",
       "    <tr>\n",
       "      <th>0</th>\n",
       "      <td>https://m.media-amazon.com/images/M/MV5BMDFkYT...</td>\n",
       "      <td>The Shawshank Redemption</td>\n",
       "      <td>1994</td>\n",
       "      <td>A</td>\n",
       "      <td>142 min</td>\n",
       "      <td>Drama</td>\n",
       "      <td>9.3</td>\n",
       "      <td>Two imprisoned men bond over a number of years...</td>\n",
       "      <td>80.0</td>\n",
       "      <td>Frank Darabont</td>\n",
       "      <td>Tim Robbins</td>\n",
       "      <td>Morgan Freeman</td>\n",
       "      <td>Bob Gunton</td>\n",
       "      <td>William Sadler</td>\n",
       "      <td>2343110</td>\n",
       "      <td>28,341,469</td>\n",
       "    </tr>\n",
       "    <tr>\n",
       "      <th>1</th>\n",
       "      <td>https://m.media-amazon.com/images/M/MV5BM2MyNj...</td>\n",
       "      <td>The Godfather</td>\n",
       "      <td>1972</td>\n",
       "      <td>A</td>\n",
       "      <td>175 min</td>\n",
       "      <td>Crime, Drama</td>\n",
       "      <td>9.2</td>\n",
       "      <td>An organized crime dynasty's aging patriarch t...</td>\n",
       "      <td>100.0</td>\n",
       "      <td>Francis Ford Coppola</td>\n",
       "      <td>Marlon Brando</td>\n",
       "      <td>Al Pacino</td>\n",
       "      <td>James Caan</td>\n",
       "      <td>Diane Keaton</td>\n",
       "      <td>1620367</td>\n",
       "      <td>134,966,411</td>\n",
       "    </tr>\n",
       "    <tr>\n",
       "      <th>2</th>\n",
       "      <td>https://m.media-amazon.com/images/M/MV5BMTMxNT...</td>\n",
       "      <td>The Dark Knight</td>\n",
       "      <td>2008</td>\n",
       "      <td>UA</td>\n",
       "      <td>152 min</td>\n",
       "      <td>Action, Crime, Drama</td>\n",
       "      <td>9.0</td>\n",
       "      <td>When the menace known as the Joker wreaks havo...</td>\n",
       "      <td>84.0</td>\n",
       "      <td>Christopher Nolan</td>\n",
       "      <td>Christian Bale</td>\n",
       "      <td>Heath Ledger</td>\n",
       "      <td>Aaron Eckhart</td>\n",
       "      <td>Michael Caine</td>\n",
       "      <td>2303232</td>\n",
       "      <td>534,858,444</td>\n",
       "    </tr>\n",
       "    <tr>\n",
       "      <th>3</th>\n",
       "      <td>https://m.media-amazon.com/images/M/MV5BMWMwMG...</td>\n",
       "      <td>The Godfather: Part II</td>\n",
       "      <td>1974</td>\n",
       "      <td>A</td>\n",
       "      <td>202 min</td>\n",
       "      <td>Crime, Drama</td>\n",
       "      <td>9.0</td>\n",
       "      <td>The early life and career of Vito Corleone in ...</td>\n",
       "      <td>90.0</td>\n",
       "      <td>Francis Ford Coppola</td>\n",
       "      <td>Al Pacino</td>\n",
       "      <td>Robert De Niro</td>\n",
       "      <td>Robert Duvall</td>\n",
       "      <td>Diane Keaton</td>\n",
       "      <td>1129952</td>\n",
       "      <td>57,300,000</td>\n",
       "    </tr>\n",
       "    <tr>\n",
       "      <th>4</th>\n",
       "      <td>https://m.media-amazon.com/images/M/MV5BMWU4N2...</td>\n",
       "      <td>12 Angry Men</td>\n",
       "      <td>1957</td>\n",
       "      <td>U</td>\n",
       "      <td>96 min</td>\n",
       "      <td>Crime, Drama</td>\n",
       "      <td>9.0</td>\n",
       "      <td>A jury holdout attempts to prevent a miscarria...</td>\n",
       "      <td>96.0</td>\n",
       "      <td>Sidney Lumet</td>\n",
       "      <td>Henry Fonda</td>\n",
       "      <td>Lee J. Cobb</td>\n",
       "      <td>Martin Balsam</td>\n",
       "      <td>John Fiedler</td>\n",
       "      <td>689845</td>\n",
       "      <td>4,360,000</td>\n",
       "    </tr>\n",
       "  </tbody>\n",
       "</table>\n",
       "</div>"
      ],
      "text/plain": [
       "                                         Poster_Link  \\\n",
       "0  https://m.media-amazon.com/images/M/MV5BMDFkYT...   \n",
       "1  https://m.media-amazon.com/images/M/MV5BM2MyNj...   \n",
       "2  https://m.media-amazon.com/images/M/MV5BMTMxNT...   \n",
       "3  https://m.media-amazon.com/images/M/MV5BMWMwMG...   \n",
       "4  https://m.media-amazon.com/images/M/MV5BMWU4N2...   \n",
       "\n",
       "               Series_Title Released_Year Certificate  Runtime  \\\n",
       "0  The Shawshank Redemption          1994           A  142 min   \n",
       "1             The Godfather          1972           A  175 min   \n",
       "2           The Dark Knight          2008          UA  152 min   \n",
       "3    The Godfather: Part II          1974           A  202 min   \n",
       "4              12 Angry Men          1957           U   96 min   \n",
       "\n",
       "                  Genre  IMDB_Rating  \\\n",
       "0                 Drama          9.3   \n",
       "1          Crime, Drama          9.2   \n",
       "2  Action, Crime, Drama          9.0   \n",
       "3          Crime, Drama          9.0   \n",
       "4          Crime, Drama          9.0   \n",
       "\n",
       "                                            Overview  Meta_score  \\\n",
       "0  Two imprisoned men bond over a number of years...        80.0   \n",
       "1  An organized crime dynasty's aging patriarch t...       100.0   \n",
       "2  When the menace known as the Joker wreaks havo...        84.0   \n",
       "3  The early life and career of Vito Corleone in ...        90.0   \n",
       "4  A jury holdout attempts to prevent a miscarria...        96.0   \n",
       "\n",
       "               Director           Star1           Star2          Star3  \\\n",
       "0        Frank Darabont     Tim Robbins  Morgan Freeman     Bob Gunton   \n",
       "1  Francis Ford Coppola   Marlon Brando       Al Pacino     James Caan   \n",
       "2     Christopher Nolan  Christian Bale    Heath Ledger  Aaron Eckhart   \n",
       "3  Francis Ford Coppola       Al Pacino  Robert De Niro  Robert Duvall   \n",
       "4          Sidney Lumet     Henry Fonda     Lee J. Cobb  Martin Balsam   \n",
       "\n",
       "            Star4  No_of_Votes        Gross  \n",
       "0  William Sadler      2343110   28,341,469  \n",
       "1    Diane Keaton      1620367  134,966,411  \n",
       "2   Michael Caine      2303232  534,858,444  \n",
       "3    Diane Keaton      1129952   57,300,000  \n",
       "4    John Fiedler       689845    4,360,000  "
      ]
     },
     "execution_count": 2,
     "metadata": {},
     "output_type": "execute_result"
    }
   ],
   "source": [
    "df = pd.read_csv(myfile)\n",
    "df.head()"
   ]
  },
  {
   "cell_type": "code",
   "execution_count": 3,
   "id": "5fb7ca62",
   "metadata": {
    "execution": {
     "iopub.execute_input": "2024-06-09T23:38:33.883749Z",
     "iopub.status.busy": "2024-06-09T23:38:33.883362Z",
     "iopub.status.idle": "2024-06-09T23:38:33.913442Z",
     "shell.execute_reply": "2024-06-09T23:38:33.912153Z"
    },
    "papermill": {
     "duration": 0.046534,
     "end_time": "2024-06-09T23:38:33.916506",
     "exception": false,
     "start_time": "2024-06-09T23:38:33.869972",
     "status": "completed"
    },
    "tags": []
   },
   "outputs": [
    {
     "name": "stdout",
     "output_type": "stream",
     "text": [
      "<class 'pandas.core.frame.DataFrame'>\n",
      "RangeIndex: 1000 entries, 0 to 999\n",
      "Data columns (total 16 columns):\n",
      " #   Column         Non-Null Count  Dtype  \n",
      "---  ------         --------------  -----  \n",
      " 0   Poster_Link    1000 non-null   object \n",
      " 1   Series_Title   1000 non-null   object \n",
      " 2   Released_Year  1000 non-null   object \n",
      " 3   Certificate    899 non-null    object \n",
      " 4   Runtime        1000 non-null   object \n",
      " 5   Genre          1000 non-null   object \n",
      " 6   IMDB_Rating    1000 non-null   float64\n",
      " 7   Overview       1000 non-null   object \n",
      " 8   Meta_score     843 non-null    float64\n",
      " 9   Director       1000 non-null   object \n",
      " 10  Star1          1000 non-null   object \n",
      " 11  Star2          1000 non-null   object \n",
      " 12  Star3          1000 non-null   object \n",
      " 13  Star4          1000 non-null   object \n",
      " 14  No_of_Votes    1000 non-null   int64  \n",
      " 15  Gross          831 non-null    object \n",
      "dtypes: float64(2), int64(1), object(13)\n",
      "memory usage: 125.1+ KB\n"
     ]
    }
   ],
   "source": [
    "df.info()"
   ]
  },
  {
   "cell_type": "markdown",
   "id": "88264bf5",
   "metadata": {
    "papermill": {
     "duration": 0.011871,
     "end_time": "2024-06-09T23:38:33.940798",
     "exception": false,
     "start_time": "2024-06-09T23:38:33.928927",
     "status": "completed"
    },
    "tags": []
   },
   "source": [
    "Lets clean and reformat the year column"
   ]
  },
  {
   "cell_type": "code",
   "execution_count": 4,
   "id": "582a13b6",
   "metadata": {
    "execution": {
     "iopub.execute_input": "2024-06-09T23:38:33.966770Z",
     "iopub.status.busy": "2024-06-09T23:38:33.966381Z",
     "iopub.status.idle": "2024-06-09T23:38:33.979219Z",
     "shell.execute_reply": "2024-06-09T23:38:33.978006Z"
    },
    "papermill": {
     "duration": 0.028818,
     "end_time": "2024-06-09T23:38:33.981740",
     "exception": false,
     "start_time": "2024-06-09T23:38:33.952922",
     "status": "completed"
    },
    "tags": []
   },
   "outputs": [],
   "source": [
    "# Get rid of rows that do not contain year\n",
    "\n",
    "index_to_drop = df[df['Released_Year']=='PG'].index # First get the index of 'PG' vlaue \n",
    " \n",
    "df = df.drop(index_to_drop) # Drop function can be given index\n",
    "\n",
    "# Convert the datatype of year to int\n",
    "\n",
    "df['Released_Year'] = df['Released_Year'].astype(int)"
   ]
  },
  {
   "cell_type": "markdown",
   "id": "94c5aa0f",
   "metadata": {
    "papermill": {
     "duration": 0.011818,
     "end_time": "2024-06-09T23:38:34.006245",
     "exception": false,
     "start_time": "2024-06-09T23:38:33.994427",
     "status": "completed"
    },
    "tags": []
   },
   "source": [
    "## What is the highest grossing movie?"
   ]
  },
  {
   "cell_type": "code",
   "execution_count": 5,
   "id": "208356ec",
   "metadata": {
    "execution": {
     "iopub.execute_input": "2024-06-09T23:38:34.032708Z",
     "iopub.status.busy": "2024-06-09T23:38:34.032168Z",
     "iopub.status.idle": "2024-06-09T23:38:34.061565Z",
     "shell.execute_reply": "2024-06-09T23:38:34.060431Z"
    },
    "papermill": {
     "duration": 0.045796,
     "end_time": "2024-06-09T23:38:34.064443",
     "exception": false,
     "start_time": "2024-06-09T23:38:34.018647",
     "status": "completed"
    },
    "tags": []
   },
   "outputs": [
    {
     "data": {
      "text/html": [
       "<div>\n",
       "<style scoped>\n",
       "    .dataframe tbody tr th:only-of-type {\n",
       "        vertical-align: middle;\n",
       "    }\n",
       "\n",
       "    .dataframe tbody tr th {\n",
       "        vertical-align: top;\n",
       "    }\n",
       "\n",
       "    .dataframe thead th {\n",
       "        text-align: right;\n",
       "    }\n",
       "</style>\n",
       "<table border=\"1\" class=\"dataframe\">\n",
       "  <thead>\n",
       "    <tr style=\"text-align: right;\">\n",
       "      <th></th>\n",
       "      <th>Poster_Link</th>\n",
       "      <th>Series_Title</th>\n",
       "      <th>Released_Year</th>\n",
       "      <th>Certificate</th>\n",
       "      <th>Runtime</th>\n",
       "      <th>Genre</th>\n",
       "      <th>IMDB_Rating</th>\n",
       "      <th>Overview</th>\n",
       "      <th>Meta_score</th>\n",
       "      <th>Director</th>\n",
       "      <th>Star1</th>\n",
       "      <th>Star2</th>\n",
       "      <th>Star3</th>\n",
       "      <th>Star4</th>\n",
       "      <th>No_of_Votes</th>\n",
       "      <th>Gross</th>\n",
       "    </tr>\n",
       "  </thead>\n",
       "  <tbody>\n",
       "    <tr>\n",
       "      <th>477</th>\n",
       "      <td>https://m.media-amazon.com/images/M/MV5BOTAzOD...</td>\n",
       "      <td>Star Wars: Episode VII - The Force Awakens</td>\n",
       "      <td>2015</td>\n",
       "      <td>U</td>\n",
       "      <td>138 min</td>\n",
       "      <td>Action, Adventure, Sci-Fi</td>\n",
       "      <td>7.9</td>\n",
       "      <td>As a new threat to the galaxy rises, Rey, a de...</td>\n",
       "      <td>80.0</td>\n",
       "      <td>J.J. Abrams</td>\n",
       "      <td>Daisy Ridley</td>\n",
       "      <td>John Boyega</td>\n",
       "      <td>Oscar Isaac</td>\n",
       "      <td>Domhnall Gleeson</td>\n",
       "      <td>860823</td>\n",
       "      <td>936662225</td>\n",
       "    </tr>\n",
       "  </tbody>\n",
       "</table>\n",
       "</div>"
      ],
      "text/plain": [
       "                                           Poster_Link  \\\n",
       "477  https://m.media-amazon.com/images/M/MV5BOTAzOD...   \n",
       "\n",
       "                                   Series_Title  Released_Year Certificate  \\\n",
       "477  Star Wars: Episode VII - The Force Awakens           2015           U   \n",
       "\n",
       "     Runtime                      Genre  IMDB_Rating  \\\n",
       "477  138 min  Action, Adventure, Sci-Fi          7.9   \n",
       "\n",
       "                                              Overview  Meta_score  \\\n",
       "477  As a new threat to the galaxy rises, Rey, a de...        80.0   \n",
       "\n",
       "        Director         Star1        Star2        Star3             Star4  \\\n",
       "477  J.J. Abrams  Daisy Ridley  John Boyega  Oscar Isaac  Domhnall Gleeson   \n",
       "\n",
       "     No_of_Votes      Gross  \n",
       "477       860823  936662225  "
      ]
     },
     "execution_count": 5,
     "metadata": {},
     "output_type": "execute_result"
    }
   ],
   "source": [
    "df_clean = df.dropna(subset=['Gross']) # remove NA\n",
    "\n",
    "df_clean.loc[:,'Gross'] = df_clean['Gross'].str.replace(',','') # remove commas\n",
    "\n",
    "df_clean.loc[:,'Gross'] = df_clean['Gross'].astype(int) # convert to int\n",
    "\n",
    "df_clean[df_clean['Gross'] == df_clean['Gross'].max()] # Get the max grossing film"
   ]
  },
  {
   "cell_type": "markdown",
   "id": "30c0a946",
   "metadata": {
    "papermill": {
     "duration": 0.012028,
     "end_time": "2024-06-09T23:38:34.089225",
     "exception": false,
     "start_time": "2024-06-09T23:38:34.077197",
     "status": "completed"
    },
    "tags": []
   },
   "source": [
    "Max grossing film of all time is Star Wars Ep 7"
   ]
  },
  {
   "cell_type": "markdown",
   "id": "2b666181",
   "metadata": {
    "papermill": {
     "duration": 0.012179,
     "end_time": "2024-06-09T23:38:34.114544",
     "exception": false,
     "start_time": "2024-06-09T23:38:34.102365",
     "status": "completed"
    },
    "tags": []
   },
   "source": [
    "# What are the top 10 highest-rated movies?\n"
   ]
  },
  {
   "cell_type": "code",
   "execution_count": 6,
   "id": "1fb8f594",
   "metadata": {
    "execution": {
     "iopub.execute_input": "2024-06-09T23:38:34.142428Z",
     "iopub.status.busy": "2024-06-09T23:38:34.141991Z",
     "iopub.status.idle": "2024-06-09T23:38:34.153923Z",
     "shell.execute_reply": "2024-06-09T23:38:34.152533Z"
    },
    "papermill": {
     "duration": 0.029032,
     "end_time": "2024-06-09T23:38:34.156758",
     "exception": false,
     "start_time": "2024-06-09T23:38:34.127726",
     "status": "completed"
    },
    "tags": []
   },
   "outputs": [
    {
     "data": {
      "text/plain": [
       "0                              The Shawshank Redemption\n",
       "1                                         The Godfather\n",
       "2                                       The Dark Knight\n",
       "3                                The Godfather: Part II\n",
       "4                                          12 Angry Men\n",
       "5         The Lord of the Rings: The Return of the King\n",
       "6                                          Pulp Fiction\n",
       "7                                      Schindler's List\n",
       "10    The Lord of the Rings: The Fellowship of the Ring\n",
       "11                                         Forrest Gump\n",
       "Name: Series_Title, dtype: object"
      ]
     },
     "execution_count": 6,
     "metadata": {},
     "output_type": "execute_result"
    }
   ],
   "source": [
    "top_movies = df.sort_values(by='IMDB_Rating', ascending = False).head(10)['Series_Title']\n",
    "\n",
    "top_movies"
   ]
  },
  {
   "cell_type": "markdown",
   "id": "fafb3152",
   "metadata": {
    "papermill": {
     "duration": 0.01227,
     "end_time": "2024-06-09T23:38:34.181961",
     "exception": false,
     "start_time": "2024-06-09T23:38:34.169691",
     "status": "completed"
    },
    "tags": []
   },
   "source": [
    "## What are the bottom 10 lowest-rated movies?"
   ]
  },
  {
   "cell_type": "code",
   "execution_count": 7,
   "id": "cd6f2769",
   "metadata": {
    "execution": {
     "iopub.execute_input": "2024-06-09T23:38:34.209710Z",
     "iopub.status.busy": "2024-06-09T23:38:34.209300Z",
     "iopub.status.idle": "2024-06-09T23:38:34.220427Z",
     "shell.execute_reply": "2024-06-09T23:38:34.219169Z"
    },
    "papermill": {
     "duration": 0.027459,
     "end_time": "2024-06-09T23:38:34.222918",
     "exception": false,
     "start_time": "2024-06-09T23:38:34.195459",
     "status": "completed"
    },
    "tags": []
   },
   "outputs": [
    {
     "data": {
      "text/plain": [
       "917          Seven Pounds\n",
       "916           The Visitor\n",
       "915        The Blind Side\n",
       "914       Sherlock Holmes\n",
       "913             Die Welle\n",
       "912            Zombieland\n",
       "911    La piel que habito\n",
       "910             Moneyball\n",
       "909             Celda 211\n",
       "999          The 39 Steps\n",
       "Name: Series_Title, dtype: object"
      ]
     },
     "execution_count": 7,
     "metadata": {},
     "output_type": "execute_result"
    }
   ],
   "source": [
    "bottom_movies = df.sort_values(by='IMDB_Rating', ascending = False).tail(10)['Series_Title']\n",
    "\n",
    "bottom_movies"
   ]
  },
  {
   "cell_type": "markdown",
   "id": "2efd6f86",
   "metadata": {
    "papermill": {
     "duration": 0.012269,
     "end_time": "2024-06-09T23:38:34.248058",
     "exception": false,
     "start_time": "2024-06-09T23:38:34.235789",
     "status": "completed"
    },
    "tags": []
   },
   "source": [
    "## Which actors have appeared in the most movies?"
   ]
  },
  {
   "cell_type": "code",
   "execution_count": 8,
   "id": "deb48143",
   "metadata": {
    "execution": {
     "iopub.execute_input": "2024-06-09T23:38:34.275485Z",
     "iopub.status.busy": "2024-06-09T23:38:34.275047Z",
     "iopub.status.idle": "2024-06-09T23:38:34.296402Z",
     "shell.execute_reply": "2024-06-09T23:38:34.295156Z"
    },
    "papermill": {
     "duration": 0.038235,
     "end_time": "2024-06-09T23:38:34.299202",
     "exception": false,
     "start_time": "2024-06-09T23:38:34.260967",
     "status": "completed"
    },
    "tags": []
   },
   "outputs": [
    {
     "data": {
      "text/plain": [
       "variable  value          \n",
       "Star1     Tom Hanks          11\n",
       "          Robert De Niro     11\n",
       "          Clint Eastwood     10\n",
       "          Al Pacino          10\n",
       "          Humphrey Bogart     9\n",
       "Name: count, dtype: int64"
      ]
     },
     "execution_count": 8,
     "metadata": {},
     "output_type": "execute_result"
    }
   ],
   "source": [
    "# Get star names from 4 columns\n",
    "df_subset = df[['Star1','Star2','Star3','Star4']]\n",
    "\n",
    "# Use the melt function to collapse values into a long table and apply count\n",
    "df_subset.melt().value_counts().head(5) # actors who appeared in most movies"
   ]
  },
  {
   "cell_type": "markdown",
   "id": "40d3c338",
   "metadata": {
    "papermill": {
     "duration": 0.012782,
     "end_time": "2024-06-09T23:38:34.325445",
     "exception": false,
     "start_time": "2024-06-09T23:38:34.312663",
     "status": "completed"
    },
    "tags": []
   },
   "source": [
    "## Which directors have the highest average movie rating?"
   ]
  },
  {
   "cell_type": "code",
   "execution_count": 9,
   "id": "a60269fd",
   "metadata": {
    "execution": {
     "iopub.execute_input": "2024-06-09T23:38:34.353786Z",
     "iopub.status.busy": "2024-06-09T23:38:34.353384Z",
     "iopub.status.idle": "2024-06-09T23:38:34.368367Z",
     "shell.execute_reply": "2024-06-09T23:38:34.367125Z"
    },
    "papermill": {
     "duration": 0.032547,
     "end_time": "2024-06-09T23:38:34.371187",
     "exception": false,
     "start_time": "2024-06-09T23:38:34.338640",
     "status": "completed"
    },
    "tags": []
   },
   "outputs": [
    {
     "data": {
      "text/html": [
       "<div>\n",
       "<style scoped>\n",
       "    .dataframe tbody tr th:only-of-type {\n",
       "        vertical-align: middle;\n",
       "    }\n",
       "\n",
       "    .dataframe tbody tr th {\n",
       "        vertical-align: top;\n",
       "    }\n",
       "\n",
       "    .dataframe thead th {\n",
       "        text-align: right;\n",
       "    }\n",
       "</style>\n",
       "<table border=\"1\" class=\"dataframe\">\n",
       "  <thead>\n",
       "    <tr style=\"text-align: right;\">\n",
       "      <th></th>\n",
       "      <th>Director</th>\n",
       "      <th>IMDB_Rating</th>\n",
       "    </tr>\n",
       "  </thead>\n",
       "  <tbody>\n",
       "    <tr>\n",
       "      <th>0</th>\n",
       "      <td>Frank Darabont</td>\n",
       "      <td>9.3</td>\n",
       "    </tr>\n",
       "    <tr>\n",
       "      <th>1</th>\n",
       "      <td>Francis Ford Coppola</td>\n",
       "      <td>9.2</td>\n",
       "    </tr>\n",
       "    <tr>\n",
       "      <th>2</th>\n",
       "      <td>Christopher Nolan</td>\n",
       "      <td>9.0</td>\n",
       "    </tr>\n",
       "    <tr>\n",
       "      <th>3</th>\n",
       "      <td>Francis Ford Coppola</td>\n",
       "      <td>9.0</td>\n",
       "    </tr>\n",
       "    <tr>\n",
       "      <th>4</th>\n",
       "      <td>Sidney Lumet</td>\n",
       "      <td>9.0</td>\n",
       "    </tr>\n",
       "  </tbody>\n",
       "</table>\n",
       "</div>"
      ],
      "text/plain": [
       "               Director  IMDB_Rating\n",
       "0        Frank Darabont          9.3\n",
       "1  Francis Ford Coppola          9.2\n",
       "2     Christopher Nolan          9.0\n",
       "3  Francis Ford Coppola          9.0\n",
       "4          Sidney Lumet          9.0"
      ]
     },
     "execution_count": 9,
     "metadata": {},
     "output_type": "execute_result"
    }
   ],
   "source": [
    "# Directors with top 5 highest ratings\n",
    "top_directors_ratings = df.sort_values(by='IMDB_Rating', ascending= False).head()[['Director','IMDB_Rating']]\n",
    "top_directors_ratings\n",
    "\n",
    "# Notice how FFCoppola features twice in this list of top directors"
   ]
  },
  {
   "cell_type": "markdown",
   "id": "39f7de9d",
   "metadata": {
    "papermill": {
     "duration": 0.013346,
     "end_time": "2024-06-09T23:38:34.397776",
     "exception": false,
     "start_time": "2024-06-09T23:38:34.384430",
     "status": "completed"
    },
    "tags": []
   },
   "source": [
    "## How has the average movie rating changed over the years?\n"
   ]
  },
  {
   "cell_type": "markdown",
   "id": "8e56c50c",
   "metadata": {
    "papermill": {
     "duration": 0.0129,
     "end_time": "2024-06-09T23:38:34.424217",
     "exception": false,
     "start_time": "2024-06-09T23:38:34.411317",
     "status": "completed"
    },
    "tags": []
   },
   "source": [
    "First lets check how many data points we have for 'released_year'."
   ]
  },
  {
   "cell_type": "code",
   "execution_count": 10,
   "id": "675d6936",
   "metadata": {
    "execution": {
     "iopub.execute_input": "2024-06-09T23:38:34.452791Z",
     "iopub.status.busy": "2024-06-09T23:38:34.452366Z",
     "iopub.status.idle": "2024-06-09T23:38:34.465665Z",
     "shell.execute_reply": "2024-06-09T23:38:34.464412Z"
    },
    "papermill": {
     "duration": 0.030843,
     "end_time": "2024-06-09T23:38:34.468618",
     "exception": false,
     "start_time": "2024-06-09T23:38:34.437775",
     "status": "completed"
    },
    "tags": []
   },
   "outputs": [
    {
     "data": {
      "text/plain": [
       "Released_Year\n",
       "2014    32\n",
       "2004    31\n",
       "2009    29\n",
       "2013    28\n",
       "2016    28\n",
       "        ..\n",
       "1930     1\n",
       "1921     1\n",
       "1936     1\n",
       "1922     1\n",
       "1943     1\n",
       "Name: count, Length: 99, dtype: int64"
      ]
     },
     "execution_count": 10,
     "metadata": {},
     "output_type": "execute_result"
    }
   ],
   "source": [
    "df['Released_Year'].value_counts()"
   ]
  },
  {
   "cell_type": "code",
   "execution_count": 11,
   "id": "3d20e4ca",
   "metadata": {
    "execution": {
     "iopub.execute_input": "2024-06-09T23:38:34.497603Z",
     "iopub.status.busy": "2024-06-09T23:38:34.497188Z",
     "iopub.status.idle": "2024-06-09T23:38:34.518001Z",
     "shell.execute_reply": "2024-06-09T23:38:34.516729Z"
    },
    "papermill": {
     "duration": 0.038561,
     "end_time": "2024-06-09T23:38:34.520589",
     "exception": false,
     "start_time": "2024-06-09T23:38:34.482028",
     "status": "completed"
    },
    "tags": []
   },
   "outputs": [
    {
     "data": {
      "text/html": [
       "<div>\n",
       "<style scoped>\n",
       "    .dataframe tbody tr th:only-of-type {\n",
       "        vertical-align: middle;\n",
       "    }\n",
       "\n",
       "    .dataframe tbody tr th {\n",
       "        vertical-align: top;\n",
       "    }\n",
       "\n",
       "    .dataframe thead th {\n",
       "        text-align: right;\n",
       "    }\n",
       "</style>\n",
       "<table border=\"1\" class=\"dataframe\">\n",
       "  <thead>\n",
       "    <tr style=\"text-align: right;\">\n",
       "      <th></th>\n",
       "      <th>Released_Year</th>\n",
       "      <th>IMDB_Rating</th>\n",
       "    </tr>\n",
       "  </thead>\n",
       "  <tbody>\n",
       "    <tr>\n",
       "      <th>0</th>\n",
       "      <td>1920</td>\n",
       "      <td>8.100000</td>\n",
       "    </tr>\n",
       "    <tr>\n",
       "      <th>1</th>\n",
       "      <td>1921</td>\n",
       "      <td>8.300000</td>\n",
       "    </tr>\n",
       "    <tr>\n",
       "      <th>2</th>\n",
       "      <td>1922</td>\n",
       "      <td>7.900000</td>\n",
       "    </tr>\n",
       "    <tr>\n",
       "      <th>3</th>\n",
       "      <td>1924</td>\n",
       "      <td>8.200000</td>\n",
       "    </tr>\n",
       "    <tr>\n",
       "      <th>4</th>\n",
       "      <td>1925</td>\n",
       "      <td>8.100000</td>\n",
       "    </tr>\n",
       "    <tr>\n",
       "      <th>...</th>\n",
       "      <td>...</td>\n",
       "      <td>...</td>\n",
       "    </tr>\n",
       "    <tr>\n",
       "      <th>94</th>\n",
       "      <td>2016</td>\n",
       "      <td>7.935714</td>\n",
       "    </tr>\n",
       "    <tr>\n",
       "      <th>95</th>\n",
       "      <td>2017</td>\n",
       "      <td>7.890909</td>\n",
       "    </tr>\n",
       "    <tr>\n",
       "      <th>96</th>\n",
       "      <td>2018</td>\n",
       "      <td>7.994737</td>\n",
       "    </tr>\n",
       "    <tr>\n",
       "      <th>97</th>\n",
       "      <td>2019</td>\n",
       "      <td>7.995652</td>\n",
       "    </tr>\n",
       "    <tr>\n",
       "      <th>98</th>\n",
       "      <td>2020</td>\n",
       "      <td>8.133333</td>\n",
       "    </tr>\n",
       "  </tbody>\n",
       "</table>\n",
       "<p>99 rows × 2 columns</p>\n",
       "</div>"
      ],
      "text/plain": [
       "    Released_Year  IMDB_Rating\n",
       "0            1920     8.100000\n",
       "1            1921     8.300000\n",
       "2            1922     7.900000\n",
       "3            1924     8.200000\n",
       "4            1925     8.100000\n",
       "..            ...          ...\n",
       "94           2016     7.935714\n",
       "95           2017     7.890909\n",
       "96           2018     7.994737\n",
       "97           2019     7.995652\n",
       "98           2020     8.133333\n",
       "\n",
       "[99 rows x 2 columns]"
      ]
     },
     "execution_count": 11,
     "metadata": {},
     "output_type": "execute_result"
    }
   ],
   "source": [
    "newseries = df.groupby(by='Released_Year')['IMDB_Rating'].mean() # Groupby and get mean ratings\n",
    "rating = pd.DataFrame(newseries) # convert to a df\n",
    "rating # notice how released_year is an index in the df\n",
    "rating_year =rating.reset_index() # this will convert index to a column\n",
    "rating_year"
   ]
  },
  {
   "cell_type": "code",
   "execution_count": 12,
   "id": "8813467e",
   "metadata": {
    "execution": {
     "iopub.execute_input": "2024-06-09T23:38:34.549985Z",
     "iopub.status.busy": "2024-06-09T23:38:34.549035Z",
     "iopub.status.idle": "2024-06-09T23:38:34.929838Z",
     "shell.execute_reply": "2024-06-09T23:38:34.928626Z"
    },
    "papermill": {
     "duration": 0.398306,
     "end_time": "2024-06-09T23:38:34.932504",
     "exception": false,
     "start_time": "2024-06-09T23:38:34.534198",
     "status": "completed"
    },
    "tags": []
   },
   "outputs": [
    {
     "data": {
      "text/plain": [
       "<Axes: title={'center': 'Movie Ratings by Year'}, xlabel='Released_Year'>"
      ]
     },
     "execution_count": 12,
     "metadata": {},
     "output_type": "execute_result"
    },
    {
     "data": {
      "image/png": "[encoded data removed]",
      "text/plain": [
       "<Figure size 640x480 with 1 Axes>"
      ]
     },
     "metadata": {},
     "output_type": "display_data"
    }
   ],
   "source": [
    "rating_year.plot(x='Released_Year', y='IMDB_Rating', kind='line', title='Movie Ratings by Year')"
   ]
  },
  {
   "cell_type": "markdown",
   "id": "1419b371",
   "metadata": {
    "papermill": {
     "duration": 0.014398,
     "end_time": "2024-06-09T23:38:34.961628",
     "exception": false,
     "start_time": "2024-06-09T23:38:34.947230",
     "status": "completed"
    },
    "tags": []
   },
   "source": [
    "Ratings seem to have a downward trend."
   ]
  },
  {
   "cell_type": "markdown",
   "id": "0f270fc5",
   "metadata": {
    "papermill": {
     "duration": 0.014314,
     "end_time": "2024-06-09T23:38:34.990675",
     "exception": false,
     "start_time": "2024-06-09T23:38:34.976361",
     "status": "completed"
    },
    "tags": []
   },
   "source": [
    "## What is the trend in the number of movies released per year?\n"
   ]
  },
  {
   "cell_type": "code",
   "execution_count": 13,
   "id": "b9852c8e",
   "metadata": {
    "execution": {
     "iopub.execute_input": "2024-06-09T23:38:35.021944Z",
     "iopub.status.busy": "2024-06-09T23:38:35.021511Z",
     "iopub.status.idle": "2024-06-09T23:38:35.037284Z",
     "shell.execute_reply": "2024-06-09T23:38:35.036141Z"
    },
    "papermill": {
     "duration": 0.034353,
     "end_time": "2024-06-09T23:38:35.039749",
     "exception": false,
     "start_time": "2024-06-09T23:38:35.005396",
     "status": "completed"
    },
    "tags": []
   },
   "outputs": [
    {
     "data": {
      "text/html": [
       "<div>\n",
       "<style scoped>\n",
       "    .dataframe tbody tr th:only-of-type {\n",
       "        vertical-align: middle;\n",
       "    }\n",
       "\n",
       "    .dataframe tbody tr th {\n",
       "        vertical-align: top;\n",
       "    }\n",
       "\n",
       "    .dataframe thead th {\n",
       "        text-align: right;\n",
       "    }\n",
       "</style>\n",
       "<table border=\"1\" class=\"dataframe\">\n",
       "  <thead>\n",
       "    <tr style=\"text-align: right;\">\n",
       "      <th></th>\n",
       "      <th>Released_Year</th>\n",
       "      <th>count</th>\n",
       "    </tr>\n",
       "  </thead>\n",
       "  <tbody>\n",
       "    <tr>\n",
       "      <th>0</th>\n",
       "      <td>2014</td>\n",
       "      <td>32</td>\n",
       "    </tr>\n",
       "    <tr>\n",
       "      <th>1</th>\n",
       "      <td>2004</td>\n",
       "      <td>31</td>\n",
       "    </tr>\n",
       "    <tr>\n",
       "      <th>2</th>\n",
       "      <td>2009</td>\n",
       "      <td>29</td>\n",
       "    </tr>\n",
       "    <tr>\n",
       "      <th>3</th>\n",
       "      <td>2013</td>\n",
       "      <td>28</td>\n",
       "    </tr>\n",
       "    <tr>\n",
       "      <th>4</th>\n",
       "      <td>2016</td>\n",
       "      <td>28</td>\n",
       "    </tr>\n",
       "    <tr>\n",
       "      <th>...</th>\n",
       "      <td>...</td>\n",
       "      <td>...</td>\n",
       "    </tr>\n",
       "    <tr>\n",
       "      <th>94</th>\n",
       "      <td>1930</td>\n",
       "      <td>1</td>\n",
       "    </tr>\n",
       "    <tr>\n",
       "      <th>95</th>\n",
       "      <td>1921</td>\n",
       "      <td>1</td>\n",
       "    </tr>\n",
       "    <tr>\n",
       "      <th>96</th>\n",
       "      <td>1936</td>\n",
       "      <td>1</td>\n",
       "    </tr>\n",
       "    <tr>\n",
       "      <th>97</th>\n",
       "      <td>1922</td>\n",
       "      <td>1</td>\n",
       "    </tr>\n",
       "    <tr>\n",
       "      <th>98</th>\n",
       "      <td>1943</td>\n",
       "      <td>1</td>\n",
       "    </tr>\n",
       "  </tbody>\n",
       "</table>\n",
       "<p>99 rows × 2 columns</p>\n",
       "</div>"
      ],
      "text/plain": [
       "    Released_Year  count\n",
       "0            2014     32\n",
       "1            2004     31\n",
       "2            2009     29\n",
       "3            2013     28\n",
       "4            2016     28\n",
       "..            ...    ...\n",
       "94           1930      1\n",
       "95           1921      1\n",
       "96           1936      1\n",
       "97           1922      1\n",
       "98           1943      1\n",
       "\n",
       "[99 rows x 2 columns]"
      ]
     },
     "execution_count": 13,
     "metadata": {},
     "output_type": "execute_result"
    }
   ],
   "source": [
    "count = df['Released_Year'].value_counts() # get count of movies released per year\n",
    "count_df  = pd.DataFrame(count) # convert to a df\n",
    "count_year = count_df.reset_index() # convert into column\n",
    "count_year"
   ]
  },
  {
   "cell_type": "markdown",
   "id": "b22ccc25",
   "metadata": {
    "papermill": {
     "duration": 0.014532,
     "end_time": "2024-06-09T23:38:35.069247",
     "exception": false,
     "start_time": "2024-06-09T23:38:35.054715",
     "status": "completed"
    },
    "tags": []
   },
   "source": []
  },
  {
   "cell_type": "code",
   "execution_count": 14,
   "id": "e3ed7174",
   "metadata": {
    "execution": {
     "iopub.execute_input": "2024-06-09T23:38:35.101346Z",
     "iopub.status.busy": "2024-06-09T23:38:35.100932Z",
     "iopub.status.idle": "2024-06-09T23:38:35.107344Z",
     "shell.execute_reply": "2024-06-09T23:38:35.106152Z"
    },
    "papermill": {
     "duration": 0.025687,
     "end_time": "2024-06-09T23:38:35.109942",
     "exception": false,
     "start_time": "2024-06-09T23:38:35.084255",
     "status": "completed"
    },
    "tags": []
   },
   "outputs": [],
   "source": [
    "count_year=count_year.sort_values(by='Released_Year')"
   ]
  },
  {
   "cell_type": "code",
   "execution_count": 15,
   "id": "5c06f207",
   "metadata": {
    "execution": {
     "iopub.execute_input": "2024-06-09T23:38:35.141987Z",
     "iopub.status.busy": "2024-06-09T23:38:35.141550Z",
     "iopub.status.idle": "2024-06-09T23:38:35.503793Z",
     "shell.execute_reply": "2024-06-09T23:38:35.502630Z"
    },
    "papermill": {
     "duration": 0.381174,
     "end_time": "2024-06-09T23:38:35.506406",
     "exception": false,
     "start_time": "2024-06-09T23:38:35.125232",
     "status": "completed"
    },
    "tags": []
   },
   "outputs": [
    {
     "data": {
      "text/plain": [
       "<Axes: title={'center': 'Number of movie releases by Year'}, xlabel='Released_Year'>"
      ]
     },
     "execution_count": 15,
     "metadata": {},
     "output_type": "execute_result"
    },
    {
     "data": {
      "image/png": "[encoded data removed]",
      "text/plain": [
       "<Figure size 640x480 with 1 Axes>"
      ]
     },
     "metadata": {},
     "output_type": "display_data"
    }
   ],
   "source": [
    "count_year.plot(x='Released_Year', y='count', title='Number of movie releases by Year')"
   ]
  },
  {
   "cell_type": "markdown",
   "id": "da968525",
   "metadata": {
    "papermill": {
     "duration": 0.015943,
     "end_time": "2024-06-09T23:38:35.538520",
     "exception": false,
     "start_time": "2024-06-09T23:38:35.522577",
     "status": "completed"
    },
    "tags": []
   },
   "source": []
  },
  {
   "cell_type": "markdown",
   "id": "1da46448",
   "metadata": {
    "papermill": {
     "duration": 0.015838,
     "end_time": "2024-06-09T23:38:35.570596",
     "exception": false,
     "start_time": "2024-06-09T23:38:35.554758",
     "status": "completed"
    },
    "tags": []
   },
   "source": [
    "There is a clear increase in the number of movies released per year"
   ]
  },
  {
   "cell_type": "markdown",
   "id": "fe2457ed",
   "metadata": {
    "papermill": {
     "duration": 0.017523,
     "end_time": "2024-06-09T23:38:35.604217",
     "exception": false,
     "start_time": "2024-06-09T23:38:35.586694",
     "status": "completed"
    },
    "tags": []
   },
   "source": [
    "## Are certain genres becoming more or less popular over time?"
   ]
  },
  {
   "cell_type": "markdown",
   "id": "32138c9c",
   "metadata": {
    "papermill": {
     "duration": 0.015576,
     "end_time": "2024-06-09T23:38:35.635798",
     "exception": false,
     "start_time": "2024-06-09T23:38:35.620222",
     "status": "completed"
    },
    "tags": []
   },
   "source": [
    "Lets test this over a period of 5 year intervals. "
   ]
  },
  {
   "cell_type": "markdown",
   "id": "32229523",
   "metadata": {
    "papermill": {
     "duration": 0.015927,
     "end_time": "2024-06-09T23:38:35.667871",
     "exception": false,
     "start_time": "2024-06-09T23:38:35.651944",
     "status": "completed"
    },
    "tags": []
   },
   "source": []
  },
  {
   "cell_type": "markdown",
   "id": "bd43f457",
   "metadata": {
    "papermill": {
     "duration": 0.015802,
     "end_time": "2024-06-09T23:38:35.700648",
     "exception": false,
     "start_time": "2024-06-09T23:38:35.684846",
     "status": "completed"
    },
    "tags": []
   },
   "source": [
    "First we need to expand the genre into all its components. The table will get longer. This is done with the str.split and explode functions."
   ]
  },
  {
   "cell_type": "code",
   "execution_count": 16,
   "id": "a6e9c079",
   "metadata": {
    "execution": {
     "iopub.execute_input": "2024-06-09T23:38:35.735832Z",
     "iopub.status.busy": "2024-06-09T23:38:35.735430Z",
     "iopub.status.idle": "2024-06-09T23:38:35.760957Z",
     "shell.execute_reply": "2024-06-09T23:38:35.759903Z"
    },
    "papermill": {
     "duration": 0.046478,
     "end_time": "2024-06-09T23:38:35.763941",
     "exception": false,
     "start_time": "2024-06-09T23:38:35.717463",
     "status": "completed"
    },
    "tags": []
   },
   "outputs": [],
   "source": [
    "genre_df = df[['Released_Year','Genre']]\n",
    "\n",
    "# Split strings and remove leading and trailing whitespaces\n",
    "genre_df.loc[:, 'Genre'] = genre_df['Genre'].str.split(',').apply(lambda x:[s.strip() for s in x])\n",
    "\n",
    "# Explode the list of genres into separate rows\n",
    "genre_df_expanded = genre_df.explode('Genre').sort_values(by='Released_Year').reset_index(drop=True)"
   ]
  },
  {
   "cell_type": "code",
   "execution_count": 17,
   "id": "8bbb9b06",
   "metadata": {
    "execution": {
     "iopub.execute_input": "2024-06-09T23:38:35.798179Z",
     "iopub.status.busy": "2024-06-09T23:38:35.797735Z",
     "iopub.status.idle": "2024-06-09T23:38:35.809253Z",
     "shell.execute_reply": "2024-06-09T23:38:35.807555Z"
    },
    "papermill": {
     "duration": 0.031668,
     "end_time": "2024-06-09T23:38:35.811986",
     "exception": false,
     "start_time": "2024-06-09T23:38:35.780318",
     "status": "completed"
    },
    "tags": []
   },
   "outputs": [
    {
     "name": "stdout",
     "output_type": "stream",
     "text": [
      "      Released_Year      Genre  Interval\n",
      "0              1920    Fantasy      1920\n",
      "1              1920     Horror      1920\n",
      "2              1920    Mystery      1920\n",
      "3              1921     Family      1920\n",
      "4              1921     Comedy      1920\n",
      "...             ...        ...       ...\n",
      "2533           2020      Drama      2020\n",
      "2534           2020     Comedy      2020\n",
      "2535           2020   Thriller      2020\n",
      "2536           2020    History      2020\n",
      "2537           2020  Biography      2020\n",
      "\n",
      "[2538 rows x 3 columns]\n"
     ]
    }
   ],
   "source": [
    "# To calculate interval from released_year, this trick is being used. Released_year is being divided\n",
    "# by 5 (we want 5 year intervals) and the integer is being multiplied by 5. For eg, for 1920, 1920//5 = 384,\n",
    "# 384*5 = 1920. \n",
    "genre_df_expanded['Interval'] = (genre_df_expanded['Released_Year'] // 5) * 5\n",
    "\n",
    "print(genre_df_expanded)"
   ]
  },
  {
   "cell_type": "code",
   "execution_count": 18,
   "id": "4f512232",
   "metadata": {
    "execution": {
     "iopub.execute_input": "2024-06-09T23:38:35.847195Z",
     "iopub.status.busy": "2024-06-09T23:38:35.846757Z",
     "iopub.status.idle": "2024-06-09T23:38:35.869847Z",
     "shell.execute_reply": "2024-06-09T23:38:35.868758Z"
    },
    "papermill": {
     "duration": 0.044334,
     "end_time": "2024-06-09T23:38:35.872727",
     "exception": false,
     "start_time": "2024-06-09T23:38:35.828393",
     "status": "completed"
    },
    "tags": []
   },
   "outputs": [
    {
     "data": {
      "text/html": [
       "<div>\n",
       "<style scoped>\n",
       "    .dataframe tbody tr th:only-of-type {\n",
       "        vertical-align: middle;\n",
       "    }\n",
       "\n",
       "    .dataframe tbody tr th {\n",
       "        vertical-align: top;\n",
       "    }\n",
       "\n",
       "    .dataframe thead th {\n",
       "        text-align: right;\n",
       "    }\n",
       "</style>\n",
       "<table border=\"1\" class=\"dataframe\">\n",
       "  <thead>\n",
       "    <tr style=\"text-align: right;\">\n",
       "      <th></th>\n",
       "      <th>Interval</th>\n",
       "      <th>Genre</th>\n",
       "      <th>count</th>\n",
       "    </tr>\n",
       "  </thead>\n",
       "  <tbody>\n",
       "    <tr>\n",
       "      <th>0</th>\n",
       "      <td>1920</td>\n",
       "      <td>Comedy</td>\n",
       "      <td>2</td>\n",
       "    </tr>\n",
       "    <tr>\n",
       "      <th>1</th>\n",
       "      <td>1920</td>\n",
       "      <td>Fantasy</td>\n",
       "      <td>2</td>\n",
       "    </tr>\n",
       "    <tr>\n",
       "      <th>2</th>\n",
       "      <td>1920</td>\n",
       "      <td>Horror</td>\n",
       "      <td>2</td>\n",
       "    </tr>\n",
       "    <tr>\n",
       "      <th>3</th>\n",
       "      <td>1920</td>\n",
       "      <td>Action</td>\n",
       "      <td>1</td>\n",
       "    </tr>\n",
       "    <tr>\n",
       "      <th>4</th>\n",
       "      <td>1920</td>\n",
       "      <td>Drama</td>\n",
       "      <td>1</td>\n",
       "    </tr>\n",
       "    <tr>\n",
       "      <th>...</th>\n",
       "      <td>...</td>\n",
       "      <td>...</td>\n",
       "      <td>...</td>\n",
       "    </tr>\n",
       "    <tr>\n",
       "      <th>317</th>\n",
       "      <td>2020</td>\n",
       "      <td>Adventure</td>\n",
       "      <td>1</td>\n",
       "    </tr>\n",
       "    <tr>\n",
       "      <th>318</th>\n",
       "      <td>2020</td>\n",
       "      <td>Animation</td>\n",
       "      <td>1</td>\n",
       "    </tr>\n",
       "    <tr>\n",
       "      <th>319</th>\n",
       "      <td>2020</td>\n",
       "      <td>Biography</td>\n",
       "      <td>1</td>\n",
       "    </tr>\n",
       "    <tr>\n",
       "      <th>320</th>\n",
       "      <td>2020</td>\n",
       "      <td>Romance</td>\n",
       "      <td>1</td>\n",
       "    </tr>\n",
       "    <tr>\n",
       "      <th>321</th>\n",
       "      <td>2020</td>\n",
       "      <td>Thriller</td>\n",
       "      <td>1</td>\n",
       "    </tr>\n",
       "  </tbody>\n",
       "</table>\n",
       "<p>322 rows × 3 columns</p>\n",
       "</div>"
      ],
      "text/plain": [
       "     Interval      Genre  count\n",
       "0        1920     Comedy      2\n",
       "1        1920    Fantasy      2\n",
       "2        1920     Horror      2\n",
       "3        1920     Action      1\n",
       "4        1920      Drama      1\n",
       "..        ...        ...    ...\n",
       "317      2020  Adventure      1\n",
       "318      2020  Animation      1\n",
       "319      2020  Biography      1\n",
       "320      2020    Romance      1\n",
       "321      2020   Thriller      1\n",
       "\n",
       "[322 rows x 3 columns]"
      ]
     },
     "execution_count": 18,
     "metadata": {},
     "output_type": "execute_result"
    }
   ],
   "source": [
    "genre_count = genre_df_expanded.groupby(by='Interval')['Genre'].value_counts()\n",
    "\n",
    "genre_count_df = pd.DataFrame(genre_count)\n",
    "\n",
    "genre_count_df = genre_count_df.reset_index()\n",
    "\n",
    "genre_count_df"
   ]
  },
  {
   "cell_type": "markdown",
   "id": "e284c5d4",
   "metadata": {
    "papermill": {
     "duration": 0.016186,
     "end_time": "2024-06-09T23:38:35.905979",
     "exception": false,
     "start_time": "2024-06-09T23:38:35.889793",
     "status": "completed"
    },
    "tags": []
   },
   "source": [
    "Its difficult to see the contents of the df in this notebook. I will download it and examine it."
   ]
  },
  {
   "cell_type": "code",
   "execution_count": 19,
   "id": "2fc0a556",
   "metadata": {
    "execution": {
     "iopub.execute_input": "2024-06-09T23:38:35.940637Z",
     "iopub.status.busy": "2024-06-09T23:38:35.940117Z",
     "iopub.status.idle": "2024-06-09T23:38:35.949796Z",
     "shell.execute_reply": "2024-06-09T23:38:35.948571Z"
    },
    "papermill": {
     "duration": 0.030336,
     "end_time": "2024-06-09T23:38:35.952737",
     "exception": false,
     "start_time": "2024-06-09T23:38:35.922401",
     "status": "completed"
    },
    "tags": []
   },
   "outputs": [],
   "source": [
    "genre_count_df.to_csv(\"genre_count.csv\")\n"
   ]
  },
  {
   "cell_type": "code",
   "execution_count": 20,
   "id": "a05aeb91",
   "metadata": {
    "execution": {
     "iopub.execute_input": "2024-06-09T23:38:35.987511Z",
     "iopub.status.busy": "2024-06-09T23:38:35.987100Z",
     "iopub.status.idle": "2024-06-09T23:38:35.996827Z",
     "shell.execute_reply": "2024-06-09T23:38:35.995733Z"
    },
    "papermill": {
     "duration": 0.029862,
     "end_time": "2024-06-09T23:38:35.999217",
     "exception": false,
     "start_time": "2024-06-09T23:38:35.969355",
     "status": "completed"
    },
    "tags": []
   },
   "outputs": [
    {
     "data": {
      "text/plain": [
       "Genre\n",
       "Comedy       21\n",
       "Drama        21\n",
       "Romance      20\n",
       "Adventure    20\n",
       "Thriller     20\n",
       "Action       19\n",
       "Mystery      19\n",
       "Crime        18\n",
       "War          17\n",
       "Fantasy      17\n",
       "Family       16\n",
       "History      16\n",
       "Sci-Fi       16\n",
       "Biography    14\n",
       "Music        13\n",
       "Animation    13\n",
       "Horror       12\n",
       "Western      10\n",
       "Musical       8\n",
       "Sport         8\n",
       "Film-Noir     4\n",
       "Name: count, dtype: int64"
      ]
     },
     "execution_count": 20,
     "metadata": {},
     "output_type": "execute_result"
    }
   ],
   "source": [
    "genre_count_df['Genre'].value_counts()"
   ]
  },
  {
   "cell_type": "markdown",
   "id": "44ad7d77",
   "metadata": {
    "papermill": {
     "duration": 0.016932,
     "end_time": "2024-06-09T23:38:36.033494",
     "exception": false,
     "start_time": "2024-06-09T23:38:36.016562",
     "status": "completed"
    },
    "tags": []
   },
   "source": [
    "Some interesting insights are found in the data. For instance, action movies have become more popular. "
   ]
  },
  {
   "cell_type": "code",
   "execution_count": 21,
   "id": "9579d12b",
   "metadata": {
    "execution": {
     "iopub.execute_input": "2024-06-09T23:38:36.068637Z",
     "iopub.status.busy": "2024-06-09T23:38:36.068218Z",
     "iopub.status.idle": "2024-06-09T23:38:36.433369Z",
     "shell.execute_reply": "2024-06-09T23:38:36.432015Z"
    },
    "papermill": {
     "duration": 0.385819,
     "end_time": "2024-06-09T23:38:36.436029",
     "exception": false,
     "start_time": "2024-06-09T23:38:36.050210",
     "status": "completed"
    },
    "tags": []
   },
   "outputs": [
    {
     "data": {
      "text/plain": [
       "<Axes: title={'center': 'Rise in action movies'}, xlabel='Interval'>"
      ]
     },
     "execution_count": 21,
     "metadata": {},
     "output_type": "execute_result"
    },
    {
     "data": {
      "image/png": "[encoded data removed]",
      "text/plain": [
       "<Figure size 640x480 with 1 Axes>"
      ]
     },
     "metadata": {},
     "output_type": "display_data"
    }
   ],
   "source": [
    "action_movies = genre_count_df[genre_count_df['Genre' ] == \"Action\"]\n",
    "\n",
    "action_movies.plot(x='Interval', y='count', title='Rise in action movies')\n",
    "\n"
   ]
  },
  {
   "cell_type": "markdown",
   "id": "8e70e331",
   "metadata": {
    "papermill": {
     "duration": 0.017196,
     "end_time": "2024-06-09T23:38:36.470837",
     "exception": false,
     "start_time": "2024-06-09T23:38:36.453641",
     "status": "completed"
    },
    "tags": []
   },
   "source": [
    "The results indicate that there has been a rise in action movies. These are absolute numbers though and do not take into account the increase in movie data over the years. "
   ]
  }
 ],
 "metadata": {
  "kaggle": {
   "accelerator": "none",
   "dataSources": [
    {
     "datasetId": 1131493,
     "sourceId": 1898721,
     "sourceType": "datasetVersion"
    }
   ],
   "dockerImageVersionId": 30732,
   "isGpuEnabled": false,
   "isInternetEnabled": true,
   "language": "python",
   "sourceType": "notebook"
  },
  "kernelspec": {
   "display_name": "Python 3",
   "language": "python",
   "name": "python3"
  },
  "language_info": {
   "codemirror_mode": {
    "name": "ipython",
    "version": 3
   },
   "file_extension": ".py",
   "mimetype": "text/x-python",
   "name": "python",
   "nbconvert_exporter": "python",
   "pygments_lexer": "ipython3",
   "version": "3.10.13"
  },
  "papermill": {
   "default_parameters": {},
   "duration": 7.561392,
   "end_time": "2024-06-09T23:38:37.073477",
   "environment_variables": {},
   "exception": null,
   "input_path": "__notebook__.ipynb",
   "output_path": "__notebook__.ipynb",
   "parameters": {},
   "start_time": "2024-06-09T23:38:29.512085",
   "version": "2.5.0"
  }
 },
 "nbformat": 4,
 "nbformat_minor": 5
}
